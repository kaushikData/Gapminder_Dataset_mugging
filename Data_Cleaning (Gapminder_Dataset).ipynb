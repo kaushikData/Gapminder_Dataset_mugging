{
 "cells": [
  {
   "cell_type": "markdown",
   "metadata": {},
   "source": [
    "Project Type: Data Cleaning and Tiding\n",
    "Dataset Source: https://www.gapminder.org\n",
    "Coding Language: Python\n",
    "Notebook: Jupyter notebook\n",
    "\n",
    "The aim of the project is to clean and tide the Gapminder dataset. The final output is the dataset that is ready to be loaded for analysis. Dataset consists of life expectancy by country and year. The data comes in multiple parts and I loaded the data, did preliminary quality diagnosis on the data (by assert statements) and cleaned data using techniques like melting, pivoting and regular_expression string matching etc. I also used visualization techniques to get some interesting insights in the dataset."
   ]
  },
  {
   "cell_type": "code",
   "execution_count": 53,
   "metadata": {},
   "outputs": [],
   "source": [
    "import pandas as pd\n",
    "import re"
   ]
  },
  {
   "cell_type": "code",
   "execution_count": 2,
   "metadata": {},
   "outputs": [],
   "source": [
    "df = pd.read_csv('https://assets.datacamp.com/production/course_2023/datasets/gapminder.csv')"
   ]
  },
  {
   "cell_type": "code",
   "execution_count": 3,
   "metadata": {},
   "outputs": [
    {
     "data": {
      "text/html": [
       "<div>\n",
       "<style scoped>\n",
       "    .dataframe tbody tr th:only-of-type {\n",
       "        vertical-align: middle;\n",
       "    }\n",
       "\n",
       "    .dataframe tbody tr th {\n",
       "        vertical-align: top;\n",
       "    }\n",
       "\n",
       "    .dataframe thead th {\n",
       "        text-align: right;\n",
       "    }\n",
       "</style>\n",
       "<table border=\"1\" class=\"dataframe\">\n",
       "  <thead>\n",
       "    <tr style=\"text-align: right;\">\n",
       "      <th></th>\n",
       "      <th>Unnamed: 0</th>\n",
       "      <th>1800</th>\n",
       "      <th>1801</th>\n",
       "      <th>1802</th>\n",
       "      <th>1803</th>\n",
       "      <th>1804</th>\n",
       "      <th>1805</th>\n",
       "      <th>1806</th>\n",
       "      <th>1807</th>\n",
       "      <th>1808</th>\n",
       "      <th>...</th>\n",
       "      <th>2008</th>\n",
       "      <th>2009</th>\n",
       "      <th>2010</th>\n",
       "      <th>2011</th>\n",
       "      <th>2012</th>\n",
       "      <th>2013</th>\n",
       "      <th>2014</th>\n",
       "      <th>2015</th>\n",
       "      <th>2016</th>\n",
       "      <th>Life expectancy</th>\n",
       "    </tr>\n",
       "  </thead>\n",
       "  <tbody>\n",
       "    <tr>\n",
       "      <th>0</th>\n",
       "      <td>0</td>\n",
       "      <td>NaN</td>\n",
       "      <td>NaN</td>\n",
       "      <td>NaN</td>\n",
       "      <td>NaN</td>\n",
       "      <td>NaN</td>\n",
       "      <td>NaN</td>\n",
       "      <td>NaN</td>\n",
       "      <td>NaN</td>\n",
       "      <td>NaN</td>\n",
       "      <td>...</td>\n",
       "      <td>NaN</td>\n",
       "      <td>NaN</td>\n",
       "      <td>NaN</td>\n",
       "      <td>NaN</td>\n",
       "      <td>NaN</td>\n",
       "      <td>NaN</td>\n",
       "      <td>NaN</td>\n",
       "      <td>NaN</td>\n",
       "      <td>NaN</td>\n",
       "      <td>Abkhazia</td>\n",
       "    </tr>\n",
       "    <tr>\n",
       "      <th>1</th>\n",
       "      <td>1</td>\n",
       "      <td>28.21</td>\n",
       "      <td>28.20</td>\n",
       "      <td>28.19</td>\n",
       "      <td>28.18</td>\n",
       "      <td>28.17</td>\n",
       "      <td>28.16</td>\n",
       "      <td>28.15</td>\n",
       "      <td>28.14</td>\n",
       "      <td>28.13</td>\n",
       "      <td>...</td>\n",
       "      <td>NaN</td>\n",
       "      <td>NaN</td>\n",
       "      <td>NaN</td>\n",
       "      <td>NaN</td>\n",
       "      <td>NaN</td>\n",
       "      <td>NaN</td>\n",
       "      <td>NaN</td>\n",
       "      <td>NaN</td>\n",
       "      <td>NaN</td>\n",
       "      <td>Afghanistan</td>\n",
       "    </tr>\n",
       "    <tr>\n",
       "      <th>2</th>\n",
       "      <td>2</td>\n",
       "      <td>NaN</td>\n",
       "      <td>NaN</td>\n",
       "      <td>NaN</td>\n",
       "      <td>NaN</td>\n",
       "      <td>NaN</td>\n",
       "      <td>NaN</td>\n",
       "      <td>NaN</td>\n",
       "      <td>NaN</td>\n",
       "      <td>NaN</td>\n",
       "      <td>...</td>\n",
       "      <td>NaN</td>\n",
       "      <td>NaN</td>\n",
       "      <td>NaN</td>\n",
       "      <td>NaN</td>\n",
       "      <td>NaN</td>\n",
       "      <td>NaN</td>\n",
       "      <td>NaN</td>\n",
       "      <td>NaN</td>\n",
       "      <td>NaN</td>\n",
       "      <td>Akrotiri and Dhekelia</td>\n",
       "    </tr>\n",
       "    <tr>\n",
       "      <th>3</th>\n",
       "      <td>3</td>\n",
       "      <td>35.40</td>\n",
       "      <td>35.40</td>\n",
       "      <td>35.40</td>\n",
       "      <td>35.40</td>\n",
       "      <td>35.40</td>\n",
       "      <td>35.40</td>\n",
       "      <td>35.40</td>\n",
       "      <td>35.40</td>\n",
       "      <td>35.40</td>\n",
       "      <td>...</td>\n",
       "      <td>NaN</td>\n",
       "      <td>NaN</td>\n",
       "      <td>NaN</td>\n",
       "      <td>NaN</td>\n",
       "      <td>NaN</td>\n",
       "      <td>NaN</td>\n",
       "      <td>NaN</td>\n",
       "      <td>NaN</td>\n",
       "      <td>NaN</td>\n",
       "      <td>Albania</td>\n",
       "    </tr>\n",
       "    <tr>\n",
       "      <th>4</th>\n",
       "      <td>4</td>\n",
       "      <td>28.82</td>\n",
       "      <td>28.82</td>\n",
       "      <td>28.82</td>\n",
       "      <td>28.82</td>\n",
       "      <td>28.82</td>\n",
       "      <td>28.82</td>\n",
       "      <td>28.82</td>\n",
       "      <td>28.82</td>\n",
       "      <td>28.82</td>\n",
       "      <td>...</td>\n",
       "      <td>NaN</td>\n",
       "      <td>NaN</td>\n",
       "      <td>NaN</td>\n",
       "      <td>NaN</td>\n",
       "      <td>NaN</td>\n",
       "      <td>NaN</td>\n",
       "      <td>NaN</td>\n",
       "      <td>NaN</td>\n",
       "      <td>NaN</td>\n",
       "      <td>Algeria</td>\n",
       "    </tr>\n",
       "  </tbody>\n",
       "</table>\n",
       "<p>5 rows × 219 columns</p>\n",
       "</div>"
      ],
      "text/plain": [
       "   Unnamed: 0   1800   1801   1802   1803   1804   1805   1806   1807   1808  \\\n",
       "0           0    NaN    NaN    NaN    NaN    NaN    NaN    NaN    NaN    NaN   \n",
       "1           1  28.21  28.20  28.19  28.18  28.17  28.16  28.15  28.14  28.13   \n",
       "2           2    NaN    NaN    NaN    NaN    NaN    NaN    NaN    NaN    NaN   \n",
       "3           3  35.40  35.40  35.40  35.40  35.40  35.40  35.40  35.40  35.40   \n",
       "4           4  28.82  28.82  28.82  28.82  28.82  28.82  28.82  28.82  28.82   \n",
       "\n",
       "           ...            2008  2009  2010  2011  2012  2013  2014  2015  \\\n",
       "0          ...             NaN   NaN   NaN   NaN   NaN   NaN   NaN   NaN   \n",
       "1          ...             NaN   NaN   NaN   NaN   NaN   NaN   NaN   NaN   \n",
       "2          ...             NaN   NaN   NaN   NaN   NaN   NaN   NaN   NaN   \n",
       "3          ...             NaN   NaN   NaN   NaN   NaN   NaN   NaN   NaN   \n",
       "4          ...             NaN   NaN   NaN   NaN   NaN   NaN   NaN   NaN   \n",
       "\n",
       "   2016        Life expectancy  \n",
       "0   NaN               Abkhazia  \n",
       "1   NaN            Afghanistan  \n",
       "2   NaN  Akrotiri and Dhekelia  \n",
       "3   NaN                Albania  \n",
       "4   NaN                Algeria  \n",
       "\n",
       "[5 rows x 219 columns]"
      ]
     },
     "execution_count": 3,
     "metadata": {},
     "output_type": "execute_result"
    }
   ],
   "source": [
    "df.head()"
   ]
  },
  {
   "cell_type": "markdown",
   "metadata": {},
   "source": [
    "From the above step we can understand that:\n",
    "    1. There are many missing values (NaN). \n",
    "    2. Each year is a column from 1800 to 2016\n",
    "    "
   ]
  },
  {
   "cell_type": "code",
   "execution_count": 4,
   "metadata": {},
   "outputs": [
    {
     "name": "stdout",
     "output_type": "stream",
     "text": [
      "<class 'pandas.core.frame.DataFrame'>\n",
      "RangeIndex: 780 entries, 0 to 779\n",
      "Columns: 219 entries, Unnamed: 0 to Life expectancy\n",
      "dtypes: float64(217), int64(1), object(1)\n",
      "memory usage: 1.3+ MB\n"
     ]
    }
   ],
   "source": [
    "df.info() #memory, column types, "
   ]
  },
  {
   "cell_type": "code",
   "execution_count": 7,
   "metadata": {},
   "outputs": [
    {
     "data": {
      "text/plain": [
       "Index([u'Unnamed: 0', u'1800', u'1801', u'1802', u'1803', u'1804', u'1805',\n",
       "       u'1806', u'1807', u'1808',\n",
       "       ...\n",
       "       u'2008', u'2009', u'2010', u'2011', u'2012', u'2013', u'2014', u'2015',\n",
       "       u'2016', u'Life expectancy'],\n",
       "      dtype='object', length=219)"
      ]
     },
     "execution_count": 7,
     "metadata": {},
     "output_type": "execute_result"
    }
   ],
   "source": [
    "df.columns"
   ]
  },
  {
   "cell_type": "code",
   "execution_count": 6,
   "metadata": {},
   "outputs": [
    {
     "data": {
      "text/html": [
       "<div>\n",
       "<style scoped>\n",
       "    .dataframe tbody tr th:only-of-type {\n",
       "        vertical-align: middle;\n",
       "    }\n",
       "\n",
       "    .dataframe tbody tr th {\n",
       "        vertical-align: top;\n",
       "    }\n",
       "\n",
       "    .dataframe thead th {\n",
       "        text-align: right;\n",
       "    }\n",
       "</style>\n",
       "<table border=\"1\" class=\"dataframe\">\n",
       "  <thead>\n",
       "    <tr style=\"text-align: right;\">\n",
       "      <th></th>\n",
       "      <th>Unnamed: 0</th>\n",
       "      <th>1800</th>\n",
       "      <th>1801</th>\n",
       "      <th>1802</th>\n",
       "      <th>1803</th>\n",
       "      <th>1804</th>\n",
       "      <th>1805</th>\n",
       "      <th>1806</th>\n",
       "      <th>1807</th>\n",
       "      <th>1808</th>\n",
       "      <th>...</th>\n",
       "      <th>2007</th>\n",
       "      <th>2008</th>\n",
       "      <th>2009</th>\n",
       "      <th>2010</th>\n",
       "      <th>2011</th>\n",
       "      <th>2012</th>\n",
       "      <th>2013</th>\n",
       "      <th>2014</th>\n",
       "      <th>2015</th>\n",
       "      <th>2016</th>\n",
       "    </tr>\n",
       "  </thead>\n",
       "  <tbody>\n",
       "    <tr>\n",
       "      <th>count</th>\n",
       "      <td>780.000000</td>\n",
       "      <td>201.000000</td>\n",
       "      <td>201.000000</td>\n",
       "      <td>201.000000</td>\n",
       "      <td>201.000000</td>\n",
       "      <td>201.000000</td>\n",
       "      <td>201.000000</td>\n",
       "      <td>201.000000</td>\n",
       "      <td>201.000000</td>\n",
       "      <td>201.000000</td>\n",
       "      <td>...</td>\n",
       "      <td>208.000000</td>\n",
       "      <td>208.000000</td>\n",
       "      <td>208.000000</td>\n",
       "      <td>208.000000</td>\n",
       "      <td>208.000000</td>\n",
       "      <td>208.000000</td>\n",
       "      <td>208.000000</td>\n",
       "      <td>208.000000</td>\n",
       "      <td>208.00000</td>\n",
       "      <td>208.000000</td>\n",
       "    </tr>\n",
       "    <tr>\n",
       "      <th>mean</th>\n",
       "      <td>129.500000</td>\n",
       "      <td>31.486020</td>\n",
       "      <td>31.448905</td>\n",
       "      <td>31.463483</td>\n",
       "      <td>31.377413</td>\n",
       "      <td>31.446318</td>\n",
       "      <td>31.562537</td>\n",
       "      <td>31.615970</td>\n",
       "      <td>31.573134</td>\n",
       "      <td>31.376766</td>\n",
       "      <td>...</td>\n",
       "      <td>70.139712</td>\n",
       "      <td>70.447163</td>\n",
       "      <td>70.767740</td>\n",
       "      <td>70.969904</td>\n",
       "      <td>71.324375</td>\n",
       "      <td>71.663077</td>\n",
       "      <td>71.916106</td>\n",
       "      <td>72.088125</td>\n",
       "      <td>72.32101</td>\n",
       "      <td>72.556635</td>\n",
       "    </tr>\n",
       "    <tr>\n",
       "      <th>std</th>\n",
       "      <td>75.103138</td>\n",
       "      <td>3.763585</td>\n",
       "      <td>3.755739</td>\n",
       "      <td>3.878204</td>\n",
       "      <td>3.901966</td>\n",
       "      <td>3.877156</td>\n",
       "      <td>3.947957</td>\n",
       "      <td>4.039261</td>\n",
       "      <td>3.917339</td>\n",
       "      <td>4.017228</td>\n",
       "      <td>...</td>\n",
       "      <td>8.953255</td>\n",
       "      <td>8.800452</td>\n",
       "      <td>8.610341</td>\n",
       "      <td>8.898859</td>\n",
       "      <td>8.376540</td>\n",
       "      <td>8.217466</td>\n",
       "      <td>8.120852</td>\n",
       "      <td>8.074990</td>\n",
       "      <td>7.90202</td>\n",
       "      <td>7.738535</td>\n",
       "    </tr>\n",
       "    <tr>\n",
       "      <th>min</th>\n",
       "      <td>0.000000</td>\n",
       "      <td>23.390000</td>\n",
       "      <td>23.390000</td>\n",
       "      <td>23.390000</td>\n",
       "      <td>19.600000</td>\n",
       "      <td>23.390000</td>\n",
       "      <td>23.390000</td>\n",
       "      <td>23.390000</td>\n",
       "      <td>23.390000</td>\n",
       "      <td>12.480000</td>\n",
       "      <td>...</td>\n",
       "      <td>43.300000</td>\n",
       "      <td>44.500000</td>\n",
       "      <td>45.500000</td>\n",
       "      <td>32.200000</td>\n",
       "      <td>46.700000</td>\n",
       "      <td>46.100000</td>\n",
       "      <td>45.600000</td>\n",
       "      <td>45.400000</td>\n",
       "      <td>47.10000</td>\n",
       "      <td>48.860000</td>\n",
       "    </tr>\n",
       "    <tr>\n",
       "      <th>25%</th>\n",
       "      <td>64.750000</td>\n",
       "      <td>29.000000</td>\n",
       "      <td>28.950000</td>\n",
       "      <td>28.900000</td>\n",
       "      <td>28.900000</td>\n",
       "      <td>28.950000</td>\n",
       "      <td>29.000000</td>\n",
       "      <td>29.000000</td>\n",
       "      <td>29.000000</td>\n",
       "      <td>28.950000</td>\n",
       "      <td>...</td>\n",
       "      <td>64.825000</td>\n",
       "      <td>64.875000</td>\n",
       "      <td>65.225000</td>\n",
       "      <td>65.475000</td>\n",
       "      <td>65.600000</td>\n",
       "      <td>66.075000</td>\n",
       "      <td>66.475000</td>\n",
       "      <td>66.775000</td>\n",
       "      <td>67.05000</td>\n",
       "      <td>67.175000</td>\n",
       "    </tr>\n",
       "    <tr>\n",
       "      <th>50%</th>\n",
       "      <td>129.500000</td>\n",
       "      <td>31.800000</td>\n",
       "      <td>31.700000</td>\n",
       "      <td>31.600000</td>\n",
       "      <td>31.500000</td>\n",
       "      <td>31.600000</td>\n",
       "      <td>31.700000</td>\n",
       "      <td>31.800000</td>\n",
       "      <td>31.800000</td>\n",
       "      <td>31.600000</td>\n",
       "      <td>...</td>\n",
       "      <td>72.750000</td>\n",
       "      <td>73.000000</td>\n",
       "      <td>73.350000</td>\n",
       "      <td>73.700000</td>\n",
       "      <td>73.750000</td>\n",
       "      <td>74.050000</td>\n",
       "      <td>74.150000</td>\n",
       "      <td>74.300000</td>\n",
       "      <td>74.40000</td>\n",
       "      <td>74.500000</td>\n",
       "    </tr>\n",
       "    <tr>\n",
       "      <th>75%</th>\n",
       "      <td>194.250000</td>\n",
       "      <td>33.900000</td>\n",
       "      <td>33.900000</td>\n",
       "      <td>33.900000</td>\n",
       "      <td>33.800000</td>\n",
       "      <td>33.870000</td>\n",
       "      <td>33.900000</td>\n",
       "      <td>34.000000</td>\n",
       "      <td>34.000000</td>\n",
       "      <td>33.870000</td>\n",
       "      <td>...</td>\n",
       "      <td>76.925000</td>\n",
       "      <td>77.150000</td>\n",
       "      <td>77.425000</td>\n",
       "      <td>77.650000</td>\n",
       "      <td>77.825000</td>\n",
       "      <td>78.125000</td>\n",
       "      <td>78.300000</td>\n",
       "      <td>78.400000</td>\n",
       "      <td>78.50000</td>\n",
       "      <td>78.650000</td>\n",
       "    </tr>\n",
       "    <tr>\n",
       "      <th>max</th>\n",
       "      <td>259.000000</td>\n",
       "      <td>42.850000</td>\n",
       "      <td>40.300000</td>\n",
       "      <td>44.370000</td>\n",
       "      <td>44.840000</td>\n",
       "      <td>42.830000</td>\n",
       "      <td>44.270000</td>\n",
       "      <td>45.820000</td>\n",
       "      <td>43.560000</td>\n",
       "      <td>43.550000</td>\n",
       "      <td>...</td>\n",
       "      <td>84.500000</td>\n",
       "      <td>84.600000</td>\n",
       "      <td>84.600000</td>\n",
       "      <td>84.700000</td>\n",
       "      <td>84.700000</td>\n",
       "      <td>84.700000</td>\n",
       "      <td>84.800000</td>\n",
       "      <td>84.800000</td>\n",
       "      <td>84.80000</td>\n",
       "      <td>84.800000</td>\n",
       "    </tr>\n",
       "  </tbody>\n",
       "</table>\n",
       "<p>8 rows × 218 columns</p>\n",
       "</div>"
      ],
      "text/plain": [
       "       Unnamed: 0        1800        1801        1802        1803        1804  \\\n",
       "count  780.000000  201.000000  201.000000  201.000000  201.000000  201.000000   \n",
       "mean   129.500000   31.486020   31.448905   31.463483   31.377413   31.446318   \n",
       "std     75.103138    3.763585    3.755739    3.878204    3.901966    3.877156   \n",
       "min      0.000000   23.390000   23.390000   23.390000   19.600000   23.390000   \n",
       "25%     64.750000   29.000000   28.950000   28.900000   28.900000   28.950000   \n",
       "50%    129.500000   31.800000   31.700000   31.600000   31.500000   31.600000   \n",
       "75%    194.250000   33.900000   33.900000   33.900000   33.800000   33.870000   \n",
       "max    259.000000   42.850000   40.300000   44.370000   44.840000   42.830000   \n",
       "\n",
       "             1805        1806        1807        1808     ...            2007  \\\n",
       "count  201.000000  201.000000  201.000000  201.000000     ...      208.000000   \n",
       "mean    31.562537   31.615970   31.573134   31.376766     ...       70.139712   \n",
       "std      3.947957    4.039261    3.917339    4.017228     ...        8.953255   \n",
       "min     23.390000   23.390000   23.390000   12.480000     ...       43.300000   \n",
       "25%     29.000000   29.000000   29.000000   28.950000     ...       64.825000   \n",
       "50%     31.700000   31.800000   31.800000   31.600000     ...       72.750000   \n",
       "75%     33.900000   34.000000   34.000000   33.870000     ...       76.925000   \n",
       "max     44.270000   45.820000   43.560000   43.550000     ...       84.500000   \n",
       "\n",
       "             2008        2009        2010        2011        2012        2013  \\\n",
       "count  208.000000  208.000000  208.000000  208.000000  208.000000  208.000000   \n",
       "mean    70.447163   70.767740   70.969904   71.324375   71.663077   71.916106   \n",
       "std      8.800452    8.610341    8.898859    8.376540    8.217466    8.120852   \n",
       "min     44.500000   45.500000   32.200000   46.700000   46.100000   45.600000   \n",
       "25%     64.875000   65.225000   65.475000   65.600000   66.075000   66.475000   \n",
       "50%     73.000000   73.350000   73.700000   73.750000   74.050000   74.150000   \n",
       "75%     77.150000   77.425000   77.650000   77.825000   78.125000   78.300000   \n",
       "max     84.600000   84.600000   84.700000   84.700000   84.700000   84.800000   \n",
       "\n",
       "             2014       2015        2016  \n",
       "count  208.000000  208.00000  208.000000  \n",
       "mean    72.088125   72.32101   72.556635  \n",
       "std      8.074990    7.90202    7.738535  \n",
       "min     45.400000   47.10000   48.860000  \n",
       "25%     66.775000   67.05000   67.175000  \n",
       "50%     74.300000   74.40000   74.500000  \n",
       "75%     78.400000   78.50000   78.650000  \n",
       "max     84.800000   84.80000   84.800000  \n",
       "\n",
       "[8 rows x 218 columns]"
      ]
     },
     "execution_count": 6,
     "metadata": {},
     "output_type": "execute_result"
    }
   ],
   "source": [
    "df.describe() #statistics"
   ]
  },
  {
   "cell_type": "code",
   "execution_count": 15,
   "metadata": {},
   "outputs": [
    {
     "ename": "AttributeError",
     "evalue": "'DataFrame' object has no attribute 'value_counts'",
     "output_type": "error",
     "traceback": [
      "\u001b[0;31m---------------------------------------------------------------------------\u001b[0m",
      "\u001b[0;31mAttributeError\u001b[0m                            Traceback (most recent call last)",
      "\u001b[0;32m<ipython-input-15-1591c225ffc4>\u001b[0m in \u001b[0;36m<module>\u001b[0;34m()\u001b[0m\n\u001b[0;32m----> 1\u001b[0;31m \u001b[0mdf\u001b[0m\u001b[0;34m.\u001b[0m\u001b[0mvalue_counts\u001b[0m\u001b[0;34m(\u001b[0m\u001b[0;34m)\u001b[0m \u001b[0;31m#to get outliers\u001b[0m\u001b[0;34m\u001b[0m\u001b[0m\n\u001b[0m",
      "\u001b[0;32m/home/kaushik/venv/local/lib/python2.7/site-packages/pandas/core/generic.pyc\u001b[0m in \u001b[0;36m__getattr__\u001b[0;34m(self, name)\u001b[0m\n\u001b[1;32m   3612\u001b[0m             \u001b[0;32mif\u001b[0m \u001b[0mname\u001b[0m \u001b[0;32min\u001b[0m \u001b[0mself\u001b[0m\u001b[0;34m.\u001b[0m\u001b[0m_info_axis\u001b[0m\u001b[0;34m:\u001b[0m\u001b[0;34m\u001b[0m\u001b[0m\n\u001b[1;32m   3613\u001b[0m                 \u001b[0;32mreturn\u001b[0m \u001b[0mself\u001b[0m\u001b[0;34m[\u001b[0m\u001b[0mname\u001b[0m\u001b[0;34m]\u001b[0m\u001b[0;34m\u001b[0m\u001b[0m\n\u001b[0;32m-> 3614\u001b[0;31m             \u001b[0;32mreturn\u001b[0m \u001b[0mobject\u001b[0m\u001b[0;34m.\u001b[0m\u001b[0m__getattribute__\u001b[0m\u001b[0;34m(\u001b[0m\u001b[0mself\u001b[0m\u001b[0;34m,\u001b[0m \u001b[0mname\u001b[0m\u001b[0;34m)\u001b[0m\u001b[0;34m\u001b[0m\u001b[0m\n\u001b[0m\u001b[1;32m   3615\u001b[0m \u001b[0;34m\u001b[0m\u001b[0m\n\u001b[1;32m   3616\u001b[0m     \u001b[0;32mdef\u001b[0m \u001b[0m__setattr__\u001b[0m\u001b[0;34m(\u001b[0m\u001b[0mself\u001b[0m\u001b[0;34m,\u001b[0m \u001b[0mname\u001b[0m\u001b[0;34m,\u001b[0m \u001b[0mvalue\u001b[0m\u001b[0;34m)\u001b[0m\u001b[0;34m:\u001b[0m\u001b[0;34m\u001b[0m\u001b[0m\n",
      "\u001b[0;31mAttributeError\u001b[0m: 'DataFrame' object has no attribute 'value_counts'"
     ]
    }
   ],
   "source": [
    "df.value_counts() #to get outliers"
   ]
  },
  {
   "cell_type": "code",
   "execution_count": 21,
   "metadata": {},
   "outputs": [
    {
     "data": {
      "text/plain": [
       "<matplotlib.axes._subplots.AxesSubplot at 0x7f5f9d59cdd0>"
      ]
     },
     "execution_count": 21,
     "metadata": {},
     "output_type": "execute_result"
    },
    {
     "data": {
      "image/png": "[encoded data removed]",
      "text/plain": [
       "<matplotlib.figure.Figure at 0x7f5f9d4b6e50>"
      ]
     },
     "metadata": {},
     "output_type": "display_data"
    }
   ],
   "source": [
    "df['1800'].plot('hist')"
   ]
  },
  {
   "cell_type": "code",
   "execution_count": 22,
   "metadata": {},
   "outputs": [
    {
     "data": {
      "text/plain": [
       "<matplotlib.axes._subplots.AxesSubplot at 0x7f5f9d550dd0>"
      ]
     },
     "execution_count": 22,
     "metadata": {},
     "output_type": "execute_result"
    },
    {
     "data": {
      "image/png": "[encoded data removed]",
      "text/plain": [
       "<matplotlib.figure.Figure at 0x7f5f9d5f9d50>"
      ]
     },
     "metadata": {},
     "output_type": "display_data"
    }
   ],
   "source": [
    "df['2016'].plot('hist')"
   ]
  },
  {
   "cell_type": "code",
   "execution_count": null,
   "metadata": {},
   "outputs": [],
   "source": [
    "#checking data quality\n",
    "\n",
    "def cleaning_function(row_wise_data):\n",
    "    #data cleaning steps\n",
    "    return\n",
    "    "
   ]
  },
  {
   "cell_type": "code",
   "execution_count": null,
   "metadata": {},
   "outputs": [],
   "source": [
    "df.apply(cleaning_function, axis = 1) #row_wise"
   ]
  },
  {
   "cell_type": "code",
   "execution_count": null,
   "metadata": {},
   "outputs": [],
   "source": [
    "assert (df.column_data > 0).all()"
   ]
  },
  {
   "cell_type": "code",
   "execution_count": null,
   "metadata": {},
   "outputs": [],
   "source": [
    "#for combining data can use this before cleaning\n",
    "\n",
    "pd.merge(df1,df2,...)\n",
    "pd.concat([df1,df2,...])"
   ]
  },
  {
   "cell_type": "code",
   "execution_count": 23,
   "metadata": {},
   "outputs": [
    {
     "data": {
      "image/png": "[encoded data removed]",
      "text/plain": [
       "<matplotlib.figure.Figure at 0x7f5f9d3d47d0>"
      ]
     },
     "metadata": {},
     "output_type": "display_data"
    }
   ],
   "source": [
    "# Import matplotlib.pyplot\n",
    "import matplotlib.pyplot as plt\n",
    "\n",
    "# Create the scatter plot\n",
    "df.plot(kind='scatter', x='1800', y='1899')\n",
    "\n",
    "# Specify axis labels\n",
    "plt.xlabel('Life Expectancy in 1800')\n",
    "plt.ylabel('Life Expectancy in 1899')\n",
    "\n",
    "# Specify axis limits\n",
    "plt.xlim(20, 55)\n",
    "plt.ylim(20, 55)\n",
    "\n",
    "# Display the plot\n",
    "plt.show()\n",
    "\n",
    "#As you can see, there are a surprising number of countries that fall on the diagonal line. In fact, examining the DataFrame reveals that the life expectancy for 140 of the 260 countries did not change at all in the 19th century! This is possibly a result of not having access to the data for all the years back then. In this way, visualizing your data can help you uncover insights as well as diagnose it for errors."
   ]
  },
  {
   "cell_type": "markdown",
   "metadata": {},
   "source": [
    "Thinking about the question at hand\n",
    "Since you are given life expectancy level data by country and year, you could ask questions about how much the average life expectancy changes over each year.\n",
    "\n",
    "Before continuing, however, it's important to make sure that the following assumptions about the data are true:\n",
    "\n",
    "'Life expectancy' is the first column (index 0) of the DataFrame.\n",
    "The other columns contain either null or numeric values.\n",
    "The numeric values are all greater than or equal to 0.\n",
    "There is only one instance of each country.\n",
    "You can write a function that you can apply over the entire DataFrame to verify some of these assumptions. Note that spending the time to write such a script will help you when working with other datasets as well.\n"
   ]
  },
  {
   "cell_type": "code",
   "execution_count": 12,
   "metadata": {},
   "outputs": [
    {
     "ename": "AssertionError",
     "evalue": "",
     "output_type": "error",
     "traceback": [
      "\u001b[0;31m---------------------------------------------------------------------------\u001b[0m",
      "\u001b[0;31mAssertionError\u001b[0m                            Traceback (most recent call last)",
      "\u001b[0;32m<ipython-input-12-55ef59fa5727>\u001b[0m in \u001b[0;36m<module>\u001b[0;34m()\u001b[0m\n\u001b[1;32m     10\u001b[0m \u001b[0;34m\u001b[0m\u001b[0m\n\u001b[1;32m     11\u001b[0m \u001b[0;31m# Check whether the first column is 'Life expectancy'\u001b[0m\u001b[0;34m\u001b[0m\u001b[0;34m\u001b[0m\u001b[0m\n\u001b[0;32m---> 12\u001b[0;31m \u001b[0;32massert\u001b[0m \u001b[0mdf\u001b[0m\u001b[0;34m.\u001b[0m\u001b[0mcolumns\u001b[0m\u001b[0;34m[\u001b[0m\u001b[0;36m0\u001b[0m\u001b[0;34m]\u001b[0m \u001b[0;34m==\u001b[0m \u001b[0;34m'Life expectancy'\u001b[0m\u001b[0;34m\u001b[0m\u001b[0m\n\u001b[0m\u001b[1;32m     13\u001b[0m \u001b[0;34m\u001b[0m\u001b[0m\n\u001b[1;32m     14\u001b[0m \u001b[0;31m# Check whether the values in the row are valid\u001b[0m\u001b[0;34m\u001b[0m\u001b[0;34m\u001b[0m\u001b[0m\n",
      "\u001b[0;31mAssertionError\u001b[0m: "
     ]
    }
   ],
   "source": [
    "def check_null_or_valid(row_data):\n",
    "    \"\"\"Function that takes a row of data,\n",
    "    drops all missing values,\n",
    "    and checks if all remaining values are greater than or equal to 0\n",
    "    \"\"\"\n",
    "    no_na = row_data.dropna()[1:-1]\n",
    "    numeric = pd.to_numeric(no_na)\n",
    "    ge0 = numeric >= 0\n",
    "    return ge0\n",
    "\n",
    "# Check whether the first column is 'Life expectancy'\n",
    "assert df.columns[0] == 'Life expectancy'\n",
    "\n",
    "# Check whether the values in the row are valid\n",
    "assert df.iloc[:, 1:].apply(check_null_or_valid, axis=1).all().all()\n",
    "\n",
    "# Check that there is only one instance of each country\n",
    "assert df['Life expectancy'].value_counts()[0] == 1\n"
   ]
  },
  {
   "cell_type": "code",
   "execution_count": 51,
   "metadata": {},
   "outputs": [
    {
     "name": "stdout",
     "output_type": "stream",
     "text": [
      "780\n"
     ]
    }
   ],
   "source": [
    "# Melt gapminder: gapminder_melt\n",
    "gapminder_melt = pd.melt(df, id_vars = 'Life expectancy')\n",
    "\n",
    "# Rename the columns\n",
    "gapminder_melt.columns = ['country', 'year',  'life_expectancy']\n",
    "\n",
    "# Print the head of gapminder_melt\n",
    "#print(gapminder_melt.head())\n",
    "temp = (gapminder_melt['year'] == 'Unnamed: 0')\n",
    "count = 0\n",
    "for item in temp:\n",
    "\n",
    "    if item == True:\n",
    "        count += 1\n",
    "\n",
    "print count # count of Unnamed: 0 entries\n"
   ]
  },
  {
   "cell_type": "markdown",
   "metadata": {},
   "source": [
    "In the above dataset, year is not an integer or a float point. We have 780 'Unnamed: 0' entries in year column. We cannot directly cannot use pd.to_numeric method as the year is not just number but has 'unnamed: ' string in it. \n",
    "\n",
    "We need to fill the 'Unnamed: 0' with an integer to convert the column into integer or float. Let us extract 0 from the string and keep year 0 as unnamed year.\n",
    "\n",
    "To extract the 0 we need to use string manipulations.\n",
    "\n"
   ]
  },
  {
   "cell_type": "code",
   "execution_count": 59,
   "metadata": {},
   "outputs": [
    {
     "name": "stdout",
     "output_type": "stream",
     "text": [
      "                 country year  life_expectancy\n",
      "0               Abkhazia    0              0.0\n",
      "1            Afghanistan    0              1.0\n",
      "2  Akrotiri and Dhekelia    0              2.0\n",
      "3                Albania    0              3.0\n",
      "4                Algeria    0              4.0\n"
     ]
    }
   ],
   "source": [
    "gapminder_melt['year'] = gapminder_melt['year'].apply(lambda x : x.replace('Unnamed: ',''))\n",
    "print gapminder_melt.head()"
   ]
  },
  {
   "cell_type": "code",
   "execution_count": 60,
   "metadata": {},
   "outputs": [
    {
     "data": {
      "text/plain": [
       "'\\n# Test if country is of type object\\nassert df.country.dtypes == np.object\\n\\n# Test if year is of type int64\\nassert df.year.dtypes == np.int64\\n\\n# Test if life_expectancy is of type float64\\nassert df.life_expectancy.dtypes == np.float64\\n'"
      ]
     },
     "execution_count": 60,
     "metadata": {},
     "output_type": "execute_result"
    }
   ],
   "source": [
    "# Convert the year column to numeric\n",
    "gapminder_melt.year = pd.to_numeric(gapminder_melt.year)\n",
    "\"\"\"\n",
    "# Test if country is of type object\n",
    "assert df.country.dtypes == np.object\n",
    "\n",
    "# Test if year is of type int64\n",
    "assert df.year.dtypes == np.int64\n",
    "\n",
    "# Test if life_expectancy is of type float64\n",
    "assert df.life_expectancy.dtypes == np.float64\n",
    "\"\"\""
   ]
  },
  {
   "cell_type": "code",
   "execution_count": 62,
   "metadata": {},
   "outputs": [
    {
     "name": "stdout",
     "output_type": "stream",
     "text": [
      "49            Congo, Dem. Rep.\n",
      "50                 Congo, Rep.\n",
      "53               Cote d'Ivoire\n",
      "73      Falkland Is (Malvinas)\n",
      "93               Guinea-Bissau\n",
      "98            Hong Kong, China\n",
      "118    United Korea (former)\\n\n",
      "131               Macao, China\n",
      "132             Macedonia, FYR\n",
      "145      Micronesia, Fed. Sts.\n",
      "161            Ngorno-Karabakh\n",
      "187             St. Barthélemy\n",
      "193     St.-Pierre-et-Miquelon\n",
      "225                Timor-Leste\n",
      "251      Virgin Islands (U.S.)\n",
      "252       North Yemen (former)\n",
      "253       South Yemen (former)\n",
      "258                      Åland\n",
      "Name: country, dtype: object\n"
     ]
    }
   ],
   "source": [
    "\n",
    "\n",
    "# Create the series of countries: countries\n",
    "countries = gapminder_melt['country']\n",
    "\n",
    "# Drop all the duplicates from countries\n",
    "countries = countries.drop_duplicates()\n",
    "\n",
    "# Write the regular expression: pattern\n",
    "pattern = '^[A-Za-z\\.\\s]*$'\n",
    "\n",
    "# Create the Boolean vector: mask\n",
    "mask = countries.str.contains(pattern)\n",
    "\n",
    "# Invert the mask: mask_inverse\n",
    "mask_inverse = ~mask\n",
    "\n",
    "# Subset countries using mask_inverse: invalid_countries\n",
    "invalid_countries = countries.loc[mask_inverse]\n",
    "\n",
    "# Print invalid_countries\n",
    "print(invalid_countries)\n"
   ]
  },
  {
   "cell_type": "markdown",
   "metadata": {},
   "source": [
    "After dropping the missing values from 'life_expectancy', the number of rows in the DataFrame has gone down from 169260 to 43857. In general, you should avoid dropping too much of your data, but if there is no reasonable way to fill in or impute missing values, then dropping the missing data may be the best solution."
   ]
  },
  {
   "cell_type": "code",
   "execution_count": 63,
   "metadata": {},
   "outputs": [
    {
     "name": "stdout",
     "output_type": "stream",
     "text": [
      "(44637, 3)\n"
     ]
    }
   ],
   "source": [
    "# Assert that country does not contain any missing values\n",
    "assert pd.notnull(gapminder_melt.country).all()\n",
    "\n",
    "# Assert that year does not contain any missing values\n",
    "assert pd.notnull(gapminder_melt.year).all()\n",
    "\n",
    "# Drop the missing values\n",
    "gapminder_melt = gapminder_melt.dropna(how='any')\n",
    "\n",
    "# Print the shape of gapminder\n",
    "print(gapminder_melt.shape)\n"
   ]
  },
  {
   "cell_type": "code",
   "execution_count": 65,
   "metadata": {},
   "outputs": [
    {
     "name": "stdout",
     "output_type": "stream",
     "text": [
      "year\n",
      "0       129.500000\n",
      "1800     31.486020\n",
      "1801     31.448905\n",
      "1802     31.463483\n",
      "1803     31.377413\n",
      "Name: life_expectancy, dtype: float64\n",
      "year\n",
      "2012    71.663077\n",
      "2013    71.916106\n",
      "2014    72.088125\n",
      "2015    72.321010\n",
      "2016    72.556635\n",
      "Name: life_expectancy, dtype: float64\n"
     ]
    },
    {
     "data": {
      "image/png": "[encoded data removed]",
      "text/plain": [
       "<matplotlib.figure.Figure at 0x7f5f9d329650>"
      ]
     },
     "metadata": {},
     "output_type": "display_data"
    }
   ],
   "source": [
    "# Add first subplot\n",
    "plt.subplot(2, 1, 1) \n",
    "\n",
    "# Create a histogram of life_expectancy\n",
    "gapminder_melt.life_expectancy.plot(kind='hist')\n",
    "\n",
    "# Group gapminder: gapminder_agg\n",
    "gapminder_agg = gapminder_melt.groupby('year')['life_expectancy'].mean()\n",
    "\n",
    "# Print the head of gapminder_agg\n",
    "print(gapminder_agg.head())\n",
    "\n",
    "# Print the tail of gapminder_agg\n",
    "print(gapminder_agg.tail())\n",
    "\n",
    "# Add second subplot\n",
    "plt.subplot(2, 1, 2)\n",
    "\n",
    "# Create a line plot of life expectancy per year\n",
    "gapminder_agg.plot()\n",
    "\n",
    "# Add title and specify axis labels\n",
    "plt.title('Life expectancy over the years')\n",
    "plt.ylabel('Life expectancy')\n",
    "plt.xlabel('Year')\n",
    "\n",
    "# Display the plots\n",
    "plt.tight_layout()\n",
    "plt.show()\n",
    "\n",
    "# Save both DataFrames to csv files\n",
    "gapminder_melt.to_csv('gapminder.csv')\n",
    "gapminder_agg.to_csv('gapminder_agg.csv')\n"
   ]
  }
 ],
 "metadata": {
  "kernelspec": {
   "display_name": "Python 2",
   "language": "python",
   "name": "python2"
  },
  "language_info": {
   "codemirror_mode": {
    "name": "ipython",
    "version": 2
   },
   "file_extension": ".py",
   "mimetype": "text/x-python",
   "name": "python",
   "nbconvert_exporter": "python",
   "pygments_lexer": "ipython2",
   "version": "2.7.12"
  }
 },
 "nbformat": 4,
 "nbformat_minor": 2
}
